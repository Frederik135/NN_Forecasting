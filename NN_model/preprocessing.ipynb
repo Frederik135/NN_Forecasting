{
 "cells": [
  {
   "cell_type": "code",
   "execution_count": 1,
   "metadata": {},
   "outputs": [
    {
     "data": {
      "text/plain": [
       "'\\nfrom statsmodels.tsa.stattools import adfuller\\n\\n# Assume `data` is a pandas DataFrame with \\'Open\\' and \\'Close\\' columns\\ndata[\\'Percent_Change\\'] = (data[\\'Close\\'] - data[\\'Open\\']) / data[\\'Open\\']\\n\\n# Perform the Augmented Dickey-Fuller test\\nadf_result = adfuller(data[\\'Percent_Change\\'].dropna())\\n\\nprint(\\'ADF Statistic:\\', adf_result[0])\\nprint(\\'p-value:\\', adf_result[1])\\nprint(\\'Critical Values:\\')\\nfor key, value in adf_result[4].items():\\n    print(\\'\\t%s: %.3f\\' % (key, value))\\n\\n# Interpretation\\nif adf_result[1] < 0.05:\\n    print(\"The series is stationary.\")\\nelse:\\n    print(\"The series is non-stationary.\")\\n'"
      ]
     },
     "execution_count": 1,
     "metadata": {},
     "output_type": "execute_result"
    }
   ],
   "source": [
    "# All features: Final preprocessing list\n",
    "\n",
    "# (1. current open minus previous close)\n",
    "\n",
    "# 2. todays high - todays low\n",
    "# 3. todays close - todays open\n",
    "\n",
    "\n",
    "# should make data stationary. Use augmented dickey-fuller test to check for stationarity:\n",
    "\"\"\"\n",
    "from statsmodels.tsa.stattools import adfuller\n",
    "\n",
    "# Assume `data` is a pandas DataFrame with 'Open' and 'Close' columns\n",
    "data['Percent_Change'] = (data['Close'] - data['Open']) / data['Open']\n",
    "\n",
    "# Perform the Augmented Dickey-Fuller test\n",
    "adf_result = adfuller(data['Percent_Change'].dropna())\n",
    "\n",
    "print('ADF Statistic:', adf_result[0])\n",
    "print('p-value:', adf_result[1])\n",
    "print('Critical Values:')\n",
    "for key, value in adf_result[4].items():\n",
    "    print('\\t%s: %.3f' % (key, value))\n",
    "\n",
    "# Interpretation\n",
    "if adf_result[1] < 0.05:\n",
    "    print(\"The series is stationary.\")\n",
    "else:\n",
    "    print(\"The series is non-stationary.\")\n",
    "\"\"\"\n",
    "\n",
    "# 4. todays close - yesterday's close\n",
    "# 5. todays open - todays low\n",
    "# 6. todays open - todays high\n",
    "# 7. todays close - todays low\n",
    "# 8. todays close - todays high\n",
    "\n",
    "# 4. month of year\n",
    "# 5. week of year\n",
    "# 6. day of year\n",
    "# 7. day of month\n",
    "# 8. day of week\n",
    "# 9. hour of day (24h cycle)\n",
    "# 10. Volume (normalized from 0 to 1)\n",
    "\n",
    "\n",
    "# 11. Rolling window (SMA, EMA)\n",
    "# 12. Fourier Transform\n",
    "# 13. Wavelet Transform (discrete wavelet transform (adjust based on volatility: high volatility -> narrow the wavelet, low volatility -> widen the wavelet))\n",
    "# ?? (Haar, Daubechies, Symlets, Coiflets, Biorthogonal, Reverse Biorthogonal, Discrete Meyer, Gaussian, Mexican Hat, Morlet, Complex Gaussian, Shannon, Frequency B-Spline, Complex Morlet, Generalized Morse, Complex Morlet, Paul, D4, D6, D8, D10, D12, D14, D16, D18, D20, D22, D24, D26, D28, D30, D32, D34, D36, D38, D40, D42, D44, D46, D48, D50, D52, D54, D56, D58, D60, D62, D64, D66, D68, D70, D72, D74, D76, D78, D80, D82, D84, D86, D88, D90, D92, D94, D96, D98, D100, D102, D104, D106, D108, D110, D112, D114, D116, D118, D120, D122, D124, D126, D128, D130, D132, D134, D136, D138, D140, D142, D144, D146, D148, D150, D152, D154, D156, D158, D160, D162, D164, D166, D168, D170, D172, D174, D176, D178, D180, D182, D184, D186, D188, D190, D192, D194, D196, D198, D200, D202, D204, D206, D208, D210, D212, D214, D216, D218, D220, D222, D224, D226, D228, D230, D232, D234, D236, D238, D240, D242, D244, D246, D248, D250, D252, D254, D256, D258, D260, D262, D264, D266, D268, D270, D272, D274, D276, D278, D280, D282, D284, D286, D288, D290, D292, D294, D)\n",
    "# 14. Trading indicators (bullish or bearish divergence on the RSI, TD Sequential, Candlestick Patterns)\n",
    "\n",
    "\n",
    "# Alle percentage price changes zwischen -1 und 1 normalisieren\n",
    "# Volume normalisieren auf [0,1]\n",
    "\n",
    "\n",
    "# Mit Github Copilot generiert:\n",
    "# 14. Autocorrelation\n",
    "# 15. Partial Autocorrelation\n",
    "# 16. Cross-correlation\n",
    "# 17. Cross-partial correlation\n",
    "# 18. Cross-wavelet correlation\n",
    "# 19. Cross-spectral density\n",
    "# 20. Cross-wavelet coherence\n",
    "# 21. Cross-wavelet phase\n",
    "# 22. Cross-wavelet amplitude\n",
    "# 23. Cross-wavelet phase difference\n",
    "# 24. Cross-wavelet amplitude difference\n",
    "# 25. Cross-wavelet phase lag\n",
    "# 26. Cross-wavelet amplitude lag\n",
    "# 27. Cross-wavelet coherence lag\n",
    "# 28. Cross-wavelet phase difference lag\n",
    "# 29. Cross-wavelet amplitude difference lag\n",
    "\n",
    "\n"
   ]
  },
  {
   "cell_type": "markdown",
   "metadata": {},
   "source": [
    "## Getting the data"
   ]
  },
  {
   "cell_type": "code",
   "execution_count": 2,
   "metadata": {},
   "outputs": [],
   "source": [
    "import yfinance as yf\n",
    "import pandas as pd\n",
    "import numpy as np\n",
    "import matplotlib.pyplot as plt\n",
    "from config import stock_ticker, start_date, end_date"
   ]
  },
  {
   "cell_type": "code",
   "execution_count": 3,
   "metadata": {},
   "outputs": [
    {
     "name": "stderr",
     "output_type": "stream",
     "text": [
      "[*********************100%%**********************]  1 of 1 completed\n"
     ]
    },
    {
     "data": {
      "text/html": [
       "<div>\n",
       "<style scoped>\n",
       "    .dataframe tbody tr th:only-of-type {\n",
       "        vertical-align: middle;\n",
       "    }\n",
       "\n",
       "    .dataframe tbody tr th {\n",
       "        vertical-align: top;\n",
       "    }\n",
       "\n",
       "    .dataframe thead th {\n",
       "        text-align: right;\n",
       "    }\n",
       "</style>\n",
       "<table border=\"1\" class=\"dataframe\">\n",
       "  <thead>\n",
       "    <tr style=\"text-align: right;\">\n",
       "      <th></th>\n",
       "      <th>Open</th>\n",
       "      <th>High</th>\n",
       "      <th>Low</th>\n",
       "      <th>Close</th>\n",
       "      <th>Adj Close</th>\n",
       "      <th>Volume</th>\n",
       "    </tr>\n",
       "    <tr>\n",
       "      <th>Date</th>\n",
       "      <th></th>\n",
       "      <th></th>\n",
       "      <th></th>\n",
       "      <th></th>\n",
       "      <th></th>\n",
       "      <th></th>\n",
       "    </tr>\n",
       "  </thead>\n",
       "  <tbody>\n",
       "    <tr>\n",
       "      <th>1990-01-02</th>\n",
       "      <td>4.828125</td>\n",
       "      <td>4.875000</td>\n",
       "      <td>4.796875</td>\n",
       "      <td>4.875000</td>\n",
       "      <td>2.182194</td>\n",
       "      <td>12128000</td>\n",
       "    </tr>\n",
       "    <tr>\n",
       "      <th>1990-01-03</th>\n",
       "      <td>4.867188</td>\n",
       "      <td>4.867188</td>\n",
       "      <td>4.789063</td>\n",
       "      <td>4.804688</td>\n",
       "      <td>2.150722</td>\n",
       "      <td>12976000</td>\n",
       "    </tr>\n",
       "    <tr>\n",
       "      <th>1990-01-04</th>\n",
       "      <td>4.804688</td>\n",
       "      <td>4.812500</td>\n",
       "      <td>4.718750</td>\n",
       "      <td>4.781250</td>\n",
       "      <td>2.140230</td>\n",
       "      <td>7841600</td>\n",
       "    </tr>\n",
       "    <tr>\n",
       "      <th>1990-01-05</th>\n",
       "      <td>4.781250</td>\n",
       "      <td>4.828125</td>\n",
       "      <td>4.734375</td>\n",
       "      <td>4.742188</td>\n",
       "      <td>2.122745</td>\n",
       "      <td>8305600</td>\n",
       "    </tr>\n",
       "    <tr>\n",
       "      <th>1990-01-08</th>\n",
       "      <td>4.742188</td>\n",
       "      <td>4.843750</td>\n",
       "      <td>4.726563</td>\n",
       "      <td>4.843750</td>\n",
       "      <td>2.168205</td>\n",
       "      <td>10064000</td>\n",
       "    </tr>\n",
       "  </tbody>\n",
       "</table>\n",
       "</div>"
      ],
      "text/plain": [
       "                Open      High       Low     Close  Adj Close    Volume\n",
       "Date                                                                   \n",
       "1990-01-02  4.828125  4.875000  4.796875  4.875000   2.182194  12128000\n",
       "1990-01-03  4.867188  4.867188  4.789063  4.804688   2.150722  12976000\n",
       "1990-01-04  4.804688  4.812500  4.718750  4.781250   2.140230   7841600\n",
       "1990-01-05  4.781250  4.828125  4.734375  4.742188   2.122745   8305600\n",
       "1990-01-08  4.742188  4.843750  4.726563  4.843750   2.168205  10064000"
      ]
     },
     "execution_count": 3,
     "metadata": {},
     "output_type": "execute_result"
    }
   ],
   "source": [
    "stock_df = yf.download(stock_ticker, start=start_date, end=end_date)\n",
    "stock_df.head()"
   ]
  },
  {
   "cell_type": "code",
   "execution_count": 4,
   "metadata": {},
   "outputs": [],
   "source": [
    "# Remove the 29th of February\n",
    "stock_df = stock_df[~((stock_df.index.month == 2) & (stock_df.index.day == 29))]"
   ]
  },
  {
   "cell_type": "code",
   "execution_count": 5,
   "metadata": {},
   "outputs": [
    {
     "data": {
      "text/html": [
       "<div>\n",
       "<style scoped>\n",
       "    .dataframe tbody tr th:only-of-type {\n",
       "        vertical-align: middle;\n",
       "    }\n",
       "\n",
       "    .dataframe tbody tr th {\n",
       "        vertical-align: top;\n",
       "    }\n",
       "\n",
       "    .dataframe thead th {\n",
       "        text-align: right;\n",
       "    }\n",
       "</style>\n",
       "<table border=\"1\" class=\"dataframe\">\n",
       "  <thead>\n",
       "    <tr style=\"text-align: right;\">\n",
       "      <th></th>\n",
       "    </tr>\n",
       "    <tr>\n",
       "      <th>Date</th>\n",
       "    </tr>\n",
       "  </thead>\n",
       "  <tbody>\n",
       "    <tr>\n",
       "      <th>1990-01-02</th>\n",
       "    </tr>\n",
       "    <tr>\n",
       "      <th>1990-01-03</th>\n",
       "    </tr>\n",
       "    <tr>\n",
       "      <th>1990-01-04</th>\n",
       "    </tr>\n",
       "    <tr>\n",
       "      <th>1990-01-05</th>\n",
       "    </tr>\n",
       "    <tr>\n",
       "      <th>1990-01-08</th>\n",
       "    </tr>\n",
       "  </tbody>\n",
       "</table>\n",
       "</div>"
      ],
      "text/plain": [
       "Empty DataFrame\n",
       "Columns: []\n",
       "Index: [1990-01-02 00:00:00, 1990-01-03 00:00:00, 1990-01-04 00:00:00, 1990-01-05 00:00:00, 1990-01-08 00:00:00]"
      ]
     },
     "execution_count": 5,
     "metadata": {},
     "output_type": "execute_result"
    }
   ],
   "source": [
    "features_df = pd.DataFrame(index=stock_df.index)\n",
    "features_df.head()"
   ]
  },
  {
   "cell_type": "markdown",
   "metadata": {},
   "source": [
    "## Helper Functions"
   ]
  },
  {
   "cell_type": "code",
   "execution_count": 6,
   "metadata": {},
   "outputs": [],
   "source": [
    "def adjust_to_three_sigma(feature_list):\n",
    "    percentile_1st = np.percentile(feature_list, 0.3)\n",
    "    percentile_99th = np.percentile(feature_list, 99.7)\n",
    "    feature_list_capped = [max(min(x, percentile_99th), percentile_1st) for x in feature_list]\n",
    "    plt.plot(feature_list_capped)\n",
    "    return feature_list_capped\n",
    "\n",
    "def adjust_top_one_pct(feature_list):\n",
    "    percentile_1st = np.percentile(feature_list, 1)\n",
    "    percentile_99th = np.percentile(feature_list, 99)\n",
    "    feature_list_capped = [max(min(x, percentile_99th), percentile_1st) for x in feature_list]\n",
    "    return feature_list_capped\n",
    "\n",
    "# Standardize with zero mean and 1 variance\n",
    "def standardize_and_plot(feature_list):\n",
    "    feature_list = np.array(feature_list)\n",
    "    mean = np.mean(feature_list)\n",
    "    std_dev = np.std(feature_list)\n",
    "    feature_list_standardized = (feature_list - mean) / std_dev\n",
    "    print(\"Standardized mean:\", np.mean(feature_list_standardized))\n",
    "    print(\"Standardized variance:\", np.var(feature_list_standardized))\n",
    "    plt.hist(feature_list_standardized, bins='auto')\n",
    "    plt.title('Standardized to zero mean and unit variance')\n",
    "    plt.xlabel('Standardized Value')\n",
    "    plt.ylabel('Frequency')\n",
    "    plt.show()\n",
    "    return feature_list_standardized\n",
    "\n",
    "def log_and_plot(list):\n",
    "    log_list = []\n",
    "    for val in list:\n",
    "        if val > 0:\n",
    "            log_list.append(np.log(val))\n",
    "        elif val == 0:\n",
    "            log_list.append(0)\n",
    "        else:\n",
    "            log_list.append(-np.log(val))\n",
    "    plt.hist(log_list, bins='auto')\n",
    "    plt.title('Distribution of t_open_y_close_adjusted Values')\n",
    "    plt.xlabel('Value')\n",
    "    plt.ylabel('Frequency')\n",
    "    plt.show()\n",
    "    return log_list\n",
    "\n",
    "def plot_cyclical_encoding(column_name):\n",
    "    angles = np.linspace(0, 2 * np.pi, 100)\n",
    "    x = np.cos(angles)\n",
    "    y = np.sin(angles)\n",
    "    plt.figure(figsize=(6,6))\n",
    "    plt.plot(x, y, color='royalblue', linewidth=2)\n",
    "    x_coordinates = [val[0] for val in features_df[column_name]]\n",
    "    y_coordinates = [val[1] for val in features_df[column_name]]\n",
    "    plt.scatter(x_coordinates, y_coordinates, color='orange', marker='o')\n",
    "    plt.axhline(0, color='black', lw=1)\n",
    "    plt.axvline(0, color='black', lw=1)\n",
    "    plt.axis('equal')\n",
    "    plt.xlim(-1.1, 1.1)\n",
    "    plt.ylim(-1.1, 1.1)\n",
    "    plt.title(f'Cyclical sin/cos encoding for {column_name}')\n",
    "    plt.xlabel('x')\n",
    "    plt.ylabel('y')\n",
    "    plt.show()\n",
    "    "
   ]
  },
  {
   "cell_type": "markdown",
   "metadata": {},
   "source": [
    "## Features"
   ]
  },
  {
   "cell_type": "code",
   "execution_count": 7,
   "metadata": {},
   "outputs": [],
   "source": [
    "# Relative change\n",
    "curr_close_prev_close_rel = [1.0] + [stock_df['Close'].iloc[i] / stock_df['Close'].iloc[i-1] for i in range(1,len(stock_df))]"
   ]
  },
  {
   "cell_type": "code",
   "execution_count": 8,
   "metadata": {},
   "outputs": [
    {
     "data": {
      "text/plain": [
       "[<matplotlib.lines.Line2D at 0x15f466890>]"
      ]
     },
     "execution_count": 8,
     "metadata": {},
     "output_type": "execute_result"
    },
    {
     "data": {
      "image/png": "[encoded data removed]",
      "text/plain": [
       "<Figure size 640x480 with 1 Axes>"
      ]
     },
     "metadata": {},
     "output_type": "display_data"
    }
   ],
   "source": [
    "plt.plot(curr_close_prev_close_rel)"
   ]
  },
  {
   "cell_type": "code",
   "execution_count": 9,
   "metadata": {},
   "outputs": [
    {
     "data": {
      "image/png": "[encoded data removed]",
      "text/plain": [
       "<Figure size 640x480 with 1 Axes>"
      ]
     },
     "metadata": {},
     "output_type": "display_data"
    }
   ],
   "source": [
    "# Histogram\n",
    "plt.hist(curr_close_prev_close_rel, bins='auto')\n",
    "plt.title('Distribution of curr_open_prev_close Values')\n",
    "plt.xlabel('Value')\n",
    "plt.ylabel('Frequency')\n",
    "plt.show()"
   ]
  },
  {
   "cell_type": "code",
   "execution_count": 10,
   "metadata": {},
   "outputs": [
    {
     "name": "stdout",
     "output_type": "stream",
     "text": [
      "Standardized mean: 3.2435113784843358e-15\n",
      "Standardized variance: 1.0\n"
     ]
    },
    {
     "data": {
      "image/png": "[encoded data removed]",
      "text/plain": [
       "<Figure size 640x480 with 1 Axes>"
      ]
     },
     "metadata": {},
     "output_type": "display_data"
    }
   ],
   "source": [
    "curr_close_prev_close_rel_std = standardize_and_plot(curr_close_prev_close_rel)"
   ]
  },
  {
   "cell_type": "code",
   "execution_count": 11,
   "metadata": {},
   "outputs": [
    {
     "data": {
      "text/plain": [
       "[<matplotlib.lines.Line2D at 0x1682f7f10>]"
      ]
     },
     "execution_count": 11,
     "metadata": {},
     "output_type": "execute_result"
    },
    {
     "data": {
      "image/png": "[encoded data removed]",
      "text/plain": [
       "<Figure size 640x480 with 1 Axes>"
      ]
     },
     "metadata": {},
     "output_type": "display_data"
    }
   ],
   "source": [
    "# Absolute difference\n",
    "curr_close_prev_close_abs = [0] + [stock_df['Close'].iloc[i] - stock_df['Close'].iloc[i-1] for i in range(1,len(stock_df))]\n",
    "plt.plot(curr_close_prev_close_abs)"
   ]
  },
  {
   "cell_type": "code",
   "execution_count": 12,
   "metadata": {},
   "outputs": [
    {
     "data": {
      "image/png": "[encoded data removed]",
      "text/plain": [
       "<Figure size 640x480 with 1 Axes>"
      ]
     },
     "metadata": {},
     "output_type": "display_data"
    }
   ],
   "source": [
    "# Histogram\n",
    "plt.hist(curr_close_prev_close_abs, bins='auto')\n",
    "plt.title('Distribution of curr_open_prev_close Values')\n",
    "plt.xlabel('Value')\n",
    "plt.ylabel('Frequency')\n",
    "plt.show()"
   ]
  },
  {
   "cell_type": "code",
   "execution_count": 13,
   "metadata": {},
   "outputs": [
    {
     "name": "stdout",
     "output_type": "stream",
     "text": [
      "Standardized mean: -5.810513026075586e-18\n",
      "Standardized variance: 1.0000000000000002\n"
     ]
    },
    {
     "data": {
      "image/png": "[encoded data removed]",
      "text/plain": [
       "<Figure size 640x480 with 1 Axes>"
      ]
     },
     "metadata": {},
     "output_type": "display_data"
    }
   ],
   "source": [
    "curr_close_prev_close_abs_std = standardize_and_plot(curr_close_prev_close_abs)"
   ]
  },
  {
   "cell_type": "code",
   "execution_count": null,
   "metadata": {},
   "outputs": [],
   "source": []
  },
  {
   "cell_type": "code",
   "execution_count": null,
   "metadata": {},
   "outputs": [],
   "source": []
  },
  {
   "cell_type": "markdown",
   "metadata": {},
   "source": [
    "### 1. Current open minus previous close [%] | (capture price jumps between candles)\n"
   ]
  },
  {
   "cell_type": "code",
   "execution_count": null,
   "metadata": {},
   "outputs": [],
   "source": [
    "# 1. Current open minus previous close [%]\n",
    "\n",
    "curr_open_prev_close = [(stock_df['Open'].iloc[i] - stock_df['Close'].iloc[i-1]) * 100 / stock_df['Close'].iloc[i-1] for i in range(1,len(stock_df))]\n",
    "curr_open_prev_close = [0] + curr_open_prev_close\n",
    "print(curr_open_prev_close)\n",
    "plt.plot(curr_open_prev_close)"
   ]
  },
  {
   "cell_type": "code",
   "execution_count": null,
   "metadata": {},
   "outputs": [],
   "source": [
    "# Three sigma adjusted values\n",
    "curr_open_prev_close_adj = adjust_to_three_sigma(curr_open_prev_close)"
   ]
  },
  {
   "cell_type": "code",
   "execution_count": null,
   "metadata": {},
   "outputs": [],
   "source": [
    "# Histogram\n",
    "plt.hist(curr_open_prev_close, bins='auto')\n",
    "plt.title('Distribution of curr_open_prev_close Values')\n",
    "plt.xlabel('Value')\n",
    "plt.ylabel('Frequency')\n",
    "plt.show()"
   ]
  },
  {
   "cell_type": "code",
   "execution_count": null,
   "metadata": {},
   "outputs": [],
   "source": [
    "# Three sigma histogram\n",
    "plt.hist(curr_open_prev_close_adj, bins='auto')\n",
    "plt.title('Distribution of curr_open_prev_close_adjusted Values')\n",
    "plt.xlabel('Value')\n",
    "plt.ylabel('Frequency')\n",
    "plt.show()"
   ]
  },
  {
   "cell_type": "code",
   "execution_count": null,
   "metadata": {},
   "outputs": [],
   "source": [
    "# Standardized histogram\n",
    "curr_open_prev_close_adj_std = standardize_and_plot(curr_open_prev_close_adj)"
   ]
  },
  {
   "cell_type": "code",
   "execution_count": null,
   "metadata": {},
   "outputs": [],
   "source": [
    "# Log of standardized histogram\n",
    "# curr_open_prev_close_log = log_and_plot(curr_open_prev_close_std)"
   ]
  },
  {
   "cell_type": "code",
   "execution_count": null,
   "metadata": {},
   "outputs": [],
   "source": [
    "features_df['curr_open_prev_close_adj_std'] = curr_open_prev_close_adj_std\n",
    "features_df.head()"
   ]
  },
  {
   "cell_type": "markdown",
   "metadata": {},
   "source": [
    "### 2. Today's close minus today's open [%] | (daily movement)"
   ]
  },
  {
   "cell_type": "code",
   "execution_count": null,
   "metadata": {},
   "outputs": [],
   "source": [
    "# 2. Today's close minus today's open [%] | (daily movement)\n",
    "\n",
    "t_close_t_open = [(stock_df['Close'].iloc[i] - stock_df['Open'].iloc[i]) * 100 / stock_df['Open'].iloc[i] for i in range(len(stock_df))]\n",
    "print(t_close_t_open)\n",
    "plt.plot(t_close_t_open)"
   ]
  },
  {
   "cell_type": "code",
   "execution_count": null,
   "metadata": {},
   "outputs": [],
   "source": [
    "# Three sigma adjusted values\n",
    "t_close_t_open_adj = adjust_to_three_sigma(t_close_t_open)"
   ]
  },
  {
   "cell_type": "code",
   "execution_count": null,
   "metadata": {},
   "outputs": [],
   "source": [
    "# Histogram\n",
    "plt.hist(t_close_t_open, bins='auto')\n",
    "plt.title('Distribution of t_open_y_close_adjusted Values')\n",
    "plt.xlabel('close minus open in [%]')\n",
    "plt.ylabel('Frequency')\n",
    "plt.show()"
   ]
  },
  {
   "cell_type": "code",
   "execution_count": null,
   "metadata": {},
   "outputs": [],
   "source": [
    "# Standardized histogram\n",
    "t_close_t_open_adj_std = standardize_and_plot(t_close_t_open_adj)"
   ]
  },
  {
   "cell_type": "code",
   "execution_count": null,
   "metadata": {},
   "outputs": [],
   "source": [
    "# Log of standardized histogram\n",
    "# t_close_t_open_log = log_and_plot(t_close_t_open_std)"
   ]
  },
  {
   "cell_type": "code",
   "execution_count": null,
   "metadata": {},
   "outputs": [],
   "source": [
    "features_df['t_close_t_open_adj_std'] = t_close_t_open_adj_std\n",
    "features_df.head()"
   ]
  },
  {
   "cell_type": "markdown",
   "metadata": {},
   "source": [
    "### 3. Today's high minus today's low [%] | (volatility at timestep t)"
   ]
  },
  {
   "cell_type": "code",
   "execution_count": null,
   "metadata": {},
   "outputs": [],
   "source": [
    "# 3. Today's high minus today's low [%] | (daily volatility)\n",
    "\n",
    "t_high_t_low = [(stock_df['High'].iloc[i] - stock_df['Low'].iloc[i]) * 100 / stock_df['Low'].iloc[i] for i in range(len(stock_df))]\n",
    "print(t_high_t_low)\n",
    "plt.plot(t_high_t_low)"
   ]
  },
  {
   "cell_type": "code",
   "execution_count": null,
   "metadata": {},
   "outputs": [],
   "source": [
    "# Three sigma adjusted values\n",
    "t_high_t_low_adj = adjust_to_three_sigma(t_high_t_low)"
   ]
  },
  {
   "cell_type": "code",
   "execution_count": null,
   "metadata": {},
   "outputs": [],
   "source": [
    "# Histogram\n",
    "plt.hist(t_high_t_low, bins='auto')\n",
    "plt.title('Distribution of t_open_y_close_adjusted Values')\n",
    "plt.xlabel('Value')\n",
    "plt.ylabel('Frequency')\n",
    "plt.show()"
   ]
  },
  {
   "cell_type": "code",
   "execution_count": null,
   "metadata": {},
   "outputs": [],
   "source": [
    "# Standardized histogram\n",
    "t_high_t_low_adj_std = standardize_and_plot(t_high_t_low_adj)"
   ]
  },
  {
   "cell_type": "code",
   "execution_count": null,
   "metadata": {},
   "outputs": [],
   "source": [
    "# Log of standardized histogram\n",
    "# t_high_t_low_log = log_and_plot(t_high_t_low)"
   ]
  },
  {
   "cell_type": "code",
   "execution_count": null,
   "metadata": {},
   "outputs": [],
   "source": [
    "features_df['t_high_t_low_adj_std'] = t_high_t_low_adj_std\n",
    "features_df.head()"
   ]
  },
  {
   "cell_type": "markdown",
   "metadata": {},
   "source": [
    "### 4. Bid-Ask Spread"
   ]
  },
  {
   "cell_type": "markdown",
   "metadata": {},
   "source": [
    "### 5. Volume"
   ]
  },
  {
   "cell_type": "code",
   "execution_count": null,
   "metadata": {},
   "outputs": [],
   "source": [
    "volume = stock_df['Volume']\n",
    "plt.plot(volume)"
   ]
  },
  {
   "cell_type": "code",
   "execution_count": null,
   "metadata": {},
   "outputs": [],
   "source": [
    "volume_adjusted = adjust_to_three_sigma(volume)"
   ]
  },
  {
   "cell_type": "code",
   "execution_count": null,
   "metadata": {},
   "outputs": [],
   "source": [
    "# Use log for volume\n",
    "log_volume = [np.log(value) for value in stock_df['Volume']]\n",
    "plt.plot(log_volume)"
   ]
  },
  {
   "cell_type": "code",
   "execution_count": null,
   "metadata": {},
   "outputs": [],
   "source": [
    "# Histogram\n",
    "plt.hist(volume, bins='auto')\n",
    "plt.title('Distribution of t_open_y_close_adjusted Values')\n",
    "plt.xlabel('Value')\n",
    "plt.ylabel('Frequency')\n",
    "plt.show()"
   ]
  },
  {
   "cell_type": "code",
   "execution_count": null,
   "metadata": {},
   "outputs": [],
   "source": [
    "# log_and_plot(volume)"
   ]
  },
  {
   "cell_type": "code",
   "execution_count": null,
   "metadata": {},
   "outputs": [],
   "source": [
    "volume_log_std = standardize_and_plot(log_volume)"
   ]
  },
  {
   "cell_type": "code",
   "execution_count": null,
   "metadata": {},
   "outputs": [],
   "source": [
    "features_df['volume_log_std'] = volume_log_std\n",
    "features_df.head()"
   ]
  },
  {
   "cell_type": "markdown",
   "metadata": {},
   "source": [
    "### 6. Month of year"
   ]
  },
  {
   "cell_type": "code",
   "execution_count": null,
   "metadata": {},
   "outputs": [],
   "source": [
    "# 6. Month of year\n",
    "\n",
    "def month_of_year(month):\n",
    "    radians = (month - 1) * (np.pi / 6)\n",
    "    return [np.cos(radians), np.sin(radians)]\n",
    "\n",
    "features_df['month_of_year'] = features_df.index.month.map(month_of_year)\n",
    "features_df\n"
   ]
  },
  {
   "cell_type": "code",
   "execution_count": null,
   "metadata": {},
   "outputs": [],
   "source": [
    "plot_cyclical_encoding('month_of_year')"
   ]
  },
  {
   "cell_type": "markdown",
   "metadata": {},
   "source": [
    "### 7. Week of year"
   ]
  },
  {
   "cell_type": "code",
   "execution_count": null,
   "metadata": {},
   "outputs": [],
   "source": [
    "# 7. Week of year\n",
    "\n",
    "def week_of_year(week):\n",
    "    radians = (week - 1) * (2 * np.pi / 52)\n",
    "    return [np.cos(radians), np.sin(radians)]\n",
    "\n",
    "features_df['week_of_year'] = features_df.index.isocalendar().week.map(week_of_year)\n",
    "features_df"
   ]
  },
  {
   "cell_type": "code",
   "execution_count": null,
   "metadata": {},
   "outputs": [],
   "source": [
    "plot_cyclical_encoding('week_of_year')"
   ]
  },
  {
   "cell_type": "code",
   "execution_count": null,
   "metadata": {},
   "outputs": [],
   "source": [
    "# Test for the week number\n",
    "'''\n",
    "test_df = features_df.copy()\n",
    "test_df['week_number'] = test_df.index.isocalendar().week\n",
    "test_df\n",
    "'''"
   ]
  },
  {
   "cell_type": "code",
   "execution_count": null,
   "metadata": {},
   "outputs": [],
   "source": [
    "print(features_df.index.day)"
   ]
  },
  {
   "cell_type": "markdown",
   "metadata": {},
   "source": [
    "### 8. Day of year"
   ]
  },
  {
   "cell_type": "code",
   "execution_count": null,
   "metadata": {},
   "outputs": [],
   "source": [
    "# 8. Day of year - leap years are removed from the data so we always divide by 365\n",
    "\n",
    "def day_of_year(day):\n",
    "    radians = (day - 1) * (2 * np.pi / 365)\n",
    "    return [np.cos(radians), np.sin(radians)]\n",
    "\n",
    "features_df['day_of_year'] = features_df.index.map(lambda x: day_of_year(x.dayofyear))\n",
    "features_df"
   ]
  },
  {
   "cell_type": "code",
   "execution_count": null,
   "metadata": {},
   "outputs": [],
   "source": [
    "plot_cyclical_encoding('day_of_year')"
   ]
  },
  {
   "cell_type": "markdown",
   "metadata": {},
   "source": [
    "### 9. Day of month"
   ]
  },
  {
   "cell_type": "code",
   "execution_count": null,
   "metadata": {},
   "outputs": [],
   "source": [
    "# For day_of_month we normalize by the number of days in the specific month, since there is no additional timespan from \n",
    "# the 28th of February to the 1st of March or from the 30th of September to the 1st of October\n",
    "\n",
    "def day_of_month(row_index):\n",
    "    day = row_index.day\n",
    "    month = row_index.month\n",
    "    long_months = [1, 3, 5, 7, 8, 10, 12]\n",
    "    shorter_months = [2, 4, 6, 9, 11]\n",
    "    if month in long_months:\n",
    "        radians = (day - 1) * (2 * np.pi / 31)\n",
    "    elif month in shorter_months:\n",
    "        if month == 2:\n",
    "            radians = (day - 1) * (2 * np.pi / 28)\n",
    "        else:\n",
    "            radians = (day - 1) * (2 * np.pi / 30)\n",
    "    return [np.cos(radians), np.sin(radians)]\n",
    "\n",
    "features_df['day_of_month'] = features_df.index.map(day_of_month)\n",
    "features_df"
   ]
  },
  {
   "cell_type": "code",
   "execution_count": null,
   "metadata": {},
   "outputs": [],
   "source": [
    "plot_cyclical_encoding('day_of_month')"
   ]
  },
  {
   "cell_type": "code",
   "execution_count": null,
   "metadata": {},
   "outputs": [],
   "source": [
    "# Print out the first 4 January values in the features dataframe (365 * 4 == 1460)\n",
    "for i in range(len(features_df)):\n",
    "    if features_df.index.month[i] == 1 and i < 1460:\n",
    "        print(features_df.iloc[i][\"day_of_month\"])\n",
    "        print(features_df.index.day[i])"
   ]
  },
  {
   "cell_type": "markdown",
   "metadata": {},
   "source": [
    "### 10. Day of week"
   ]
  },
  {
   "cell_type": "code",
   "execution_count": null,
   "metadata": {},
   "outputs": [],
   "source": [
    "# 10. Day of week\n",
    "\n",
    "def day_of_week(day):\n",
    "    radians = (day - 1) * (2 * np.pi / 7)\n",
    "    return [np.cos(radians), np.sin(radians)]\n",
    "\n",
    "features_df['day_of_week'] = features_df.index.isocalendar().day.map(day_of_week)\n",
    "features_df"
   ]
  },
  {
   "cell_type": "code",
   "execution_count": null,
   "metadata": {},
   "outputs": [],
   "source": [
    "print(features_df.index.isocalendar().day)"
   ]
  },
  {
   "cell_type": "code",
   "execution_count": null,
   "metadata": {},
   "outputs": [],
   "source": [
    "plot_cyclical_encoding('day_of_week')"
   ]
  },
  {
   "cell_type": "markdown",
   "metadata": {},
   "source": [
    "### 11. Hour of day"
   ]
  },
  {
   "cell_type": "code",
   "execution_count": null,
   "metadata": {},
   "outputs": [],
   "source": [
    "# 11. Hour of day - CURRENTLY: daily resolution on public data - implement later with Energy data\n",
    "\n",
    "'''\n",
    "def hour_of_day(hour):\n",
    "    radians = (hour - 1) * (2 * np.pi / 7)\n",
    "    return [np.cos(radians), np.sin(radians)]\n",
    "\n",
    "features_df['hour_of_day'] = features_df.index.hour.map(hour_of_day)\n",
    "features_df\n",
    "'''"
   ]
  },
  {
   "cell_type": "code",
   "execution_count": null,
   "metadata": {},
   "outputs": [],
   "source": [
    "# plot_cyclical_encoding('hour_of_day')"
   ]
  },
  {
   "cell_type": "markdown",
   "metadata": {},
   "source": [
    "### Create tensor from features"
   ]
  },
  {
   "cell_type": "code",
   "execution_count": null,
   "metadata": {},
   "outputs": [],
   "source": [
    "def flatten_cyclic_features(df, feature_name):\n",
    "    df[f'{feature_name}_cos'] = df[feature_name].apply(lambda x: x[0])\n",
    "    df[f'{feature_name}_sin'] = df[feature_name].apply(lambda x: x[1])\n",
    "    df.drop(feature_name, axis=1, inplace=True)\n",
    "    return df"
   ]
  },
  {
   "cell_type": "code",
   "execution_count": null,
   "metadata": {},
   "outputs": [],
   "source": [
    "cyclic_features = ['month_of_year', 'week_of_year', 'day_of_year', 'day_of_month', 'day_of_week']\n",
    "for feature in cyclic_features:\n",
    "    features_df = flatten_cyclic_features(features_df, feature)"
   ]
  },
  {
   "cell_type": "code",
   "execution_count": null,
   "metadata": {},
   "outputs": [],
   "source": [
    "features_df"
   ]
  },
  {
   "cell_type": "code",
   "execution_count": null,
   "metadata": {},
   "outputs": [],
   "source": []
  },
  {
   "cell_type": "code",
   "execution_count": null,
   "metadata": {},
   "outputs": [],
   "source": []
  },
  {
   "cell_type": "code",
   "execution_count": null,
   "metadata": {},
   "outputs": [],
   "source": []
  },
  {
   "cell_type": "code",
   "execution_count": null,
   "metadata": {},
   "outputs": [],
   "source": []
  }
 ],
 "metadata": {
  "kernelspec": {
   "display_name": "pytorch_3_10",
   "language": "python",
   "name": "python3"
  },
  "language_info": {
   "codemirror_mode": {
    "name": "ipython",
    "version": 3
   },
   "file_extension": ".py",
   "mimetype": "text/x-python",
   "name": "python",
   "nbconvert_exporter": "python",
   "pygments_lexer": "ipython3",
   "version": "3.10.14"
  }
 },
 "nbformat": 4,
 "nbformat_minor": 2
}
