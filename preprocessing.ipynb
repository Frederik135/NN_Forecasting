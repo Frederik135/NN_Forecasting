{
 "cells": [
  {
   "cell_type": "code",
   "execution_count": null,
   "metadata": {},
   "outputs": [],
   "source": [
    "import yfinance as yf\n",
    "from configuration import stock_ticker, start_date, end_date\n",
    "\n",
    "stock_df = yf.download(stock_ticker, start=start_date, end=end_date)\n"
   ]
  },
  {
   "cell_type": "markdown",
   "metadata": {},
   "source": [
    "### Create different time-series (features)"
   ]
  },
  {
   "cell_type": "code",
   "execution_count": null,
   "metadata": {},
   "outputs": [],
   "source": [
    "# 1. todays open - yesterday's close\n",
    "# 2. todays high - todays low\n",
    "# 3. todays close - todays open\n",
    "\n",
    "# 4. todays close - yesterday's close\n",
    "# 5. todays open - todays low\n",
    "# 6. todays open - todays high\n",
    "# 7. todays close - todays low\n",
    "# 8. todays close - todays high\n",
    "\n",
    "# 4. month of year\n",
    "# 5. week of year\n",
    "# 6. day of year\n",
    "# 7. day of month\n",
    "# 8. day of week\n",
    "# 9. hour of day\n",
    "# 10. Volume (normalized from 0 to 1)\n",
    "# 11. Rolling window (SMA, EMA)\n",
    "# 12. Fourier Transform\n",
    "# 13. Wavelet Transform (discrete wavelet transform (adjust based on volatility: high volatility -> narrow the wavelet, low volatility -> widen the wavelet))\n",
    "# ?? (Haar, Daubechies, Symlets, Coiflets, Biorthogonal, Reverse Biorthogonal, Discrete Meyer, Gaussian, Mexican Hat, Morlet, Complex Gaussian, Shannon, Frequency B-Spline, Complex Morlet, Generalized Morse, Complex Morlet, Paul, D4, D6, D8, D10, D12, D14, D16, D18, D20, D22, D24, D26, D28, D30, D32, D34, D36, D38, D40, D42, D44, D46, D48, D50, D52, D54, D56, D58, D60, D62, D64, D66, D68, D70, D72, D74, D76, D78, D80, D82, D84, D86, D88, D90, D92, D94, D96, D98, D100, D102, D104, D106, D108, D110, D112, D114, D116, D118, D120, D122, D124, D126, D128, D130, D132, D134, D136, D138, D140, D142, D144, D146, D148, D150, D152, D154, D156, D158, D160, D162, D164, D166, D168, D170, D172, D174, D176, D178, D180, D182, D184, D186, D188, D190, D192, D194, D196, D198, D200, D202, D204, D206, D208, D210, D212, D214, D216, D218, D220, D222, D224, D226, D228, D230, D232, D234, D236, D238, D240, D242, D244, D246, D248, D250, D252, D254, D256, D258, D260, D262, D264, D266, D268, D270, D272, D274, D276, D278, D280, D282, D284, D286, D288, D290, D292, D294, D)\n",
    "# 14. Trading indicators (bullish or bearish divergence on the RSI, TD Sequential, Candlestick Patterns)\n",
    "\n",
    "\n",
    "\n",
    "\n",
    "# 14. Autocorrelation\n",
    "# 15. Partial Autocorrelation\n",
    "# 16. Cross-correlation\n",
    "# 17. Cross-partial correlation\n",
    "# 18. Cross-wavelet correlation\n",
    "# 19. Cross-spectral density\n",
    "# 20. Cross-wavelet coherence\n",
    "# 21. Cross-wavelet phase\n",
    "# 22. Cross-wavelet amplitude\n",
    "# 23. Cross-wavelet phase difference\n",
    "# 24. Cross-wavelet amplitude difference\n",
    "# 25. Cross-wavelet phase lag\n",
    "# 26. Cross-wavelet amplitude lag\n",
    "# 27. Cross-wavelet coherence lag\n",
    "# 28. Cross-wavelet phase difference lag\n",
    "# 29. Cross-wavelet amplitude difference lag\n",
    "\n",
    "\n"
   ]
  },
  {
   "cell_type": "code",
   "execution_count": null,
   "metadata": {},
   "outputs": [],
   "source": []
  },
  {
   "cell_type": "code",
   "execution_count": null,
   "metadata": {},
   "outputs": [],
   "source": []
  },
  {
   "cell_type": "code",
   "execution_count": null,
   "metadata": {},
   "outputs": [],
   "source": []
  },
  {
   "cell_type": "code",
   "execution_count": null,
   "metadata": {},
   "outputs": [],
   "source": []
  },
  {
   "cell_type": "code",
   "execution_count": null,
   "metadata": {},
   "outputs": [],
   "source": []
  },
  {
   "cell_type": "code",
   "execution_count": null,
   "metadata": {},
   "outputs": [],
   "source": []
  }
 ],
 "metadata": {
  "kernelspec": {
   "display_name": "pytorch_3_10",
   "language": "python",
   "name": "python3"
  },
  "language_info": {
   "name": "python",
   "version": "3.10.14"
  }
 },
 "nbformat": 4,
 "nbformat_minor": 2
}
